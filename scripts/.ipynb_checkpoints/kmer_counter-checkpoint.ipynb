{
 "cells": [
  {
   "cell_type": "code",
   "execution_count": 1,
   "id": "84404746",
   "metadata": {},
   "outputs": [],
   "source": [
    "from collections import defaultdict\n",
    "from sequence import *\n",
    "from scipy.stats import fisher_exact"
   ]
  },
  {
   "cell_type": "code",
   "execution_count": 2,
   "id": "a32560aa",
   "metadata": {},
   "outputs": [],
   "source": [
    "def kmer_counter(filtered_seqs, k):\n",
    "    '''\n",
    "    Return a list of the number of times each possible k-mer appears\n",
    "    in seq, including overlapping occurrences.\n",
    "    '''\n",
    "    counts = {}\n",
    "    for seq in filtered_seqs:\n",
    "        for i in range(0, len(seq)-k+1):\n",
    "            \n",
    "            kmer = seq[i:i+k]\n",
    "            current_count = counts.get(kmer, 0)\n",
    "            counts[kmer] = current_count + 1\n",
    "\n",
    "    return counts\n",
    "\n",
    "\n",
    "def positve_kmer_counts(ec_num, k):\n",
    "    \n",
    "    filtered_seqs = readFastaFile(f\"/home/seb-porras/expat_bench/workflows/{ec_num}/files/{ec_num}_filt.fasta\")\n",
    "    \n",
    "    num_seqs = len(filtered_seqs)\n",
    "\n",
    "    counts = kmer_counter(filtered_seqs, k)\n",
    "\n",
    "    return counts, num_seqs\n",
    "\n",
    "def negative_kmer_counts(ec_num, k):\n",
    "    \n",
    "    unfiltered_seqs = readFastaFile(f\"/home/seb-porras/expat_bench/workflows/{ec_num}/files/{ec_num}.fasta\")\n",
    "    \n",
    "    num_seqs = len(unfiltered_seqs)\n",
    "\n",
    "    counts = kmer_counter(unfiltered_seqs, k)\n",
    "\n",
    "    return counts, num_seqs"
   ]
  },
  {
   "cell_type": "code",
   "execution_count": 28,
   "id": "3cfaa03e",
   "metadata": {},
   "outputs": [],
   "source": [
    "positive, pos_length = positve_kmer_counts('3_6_5_2', 5)\n",
    "negative, neg_length = negative_kmer_counts('3_6_5_2', 5)\n"
   ]
  },
  {
   "cell_type": "code",
   "execution_count": 25,
   "id": "6239948f",
   "metadata": {},
   "outputs": [],
   "source": [
    "def get_pvals(positive_list):\n",
    "\n",
    "    kmer_pvals = defaultdict()\n",
    "\n",
    "    for key, value in positive_list.items():\n",
    "\n",
    "        a = value\n",
    "        b = pos_length - a\n",
    "\n",
    "        c = negative[key]\n",
    "        d = neg_length - c\n",
    "\n",
    "        oddsratio, pvalue = fisher_exact([[a, b], [c, d]])\n",
    "\n",
    "        kmer_pvals[key] = pvalue\n",
    "        \n",
    "    return kmer_pvals\n",
    "\n",
    "def get_signif_pvals(positive_list, alpha):\n",
    "    \n",
    "    sig_pvals = {}\n",
    "    \n",
    "    sorted_pvals = sorted(get_pvals(positive_list).items(), key = lambda x: x[1])\n",
    "    \n",
    "    for x in sorted_pvals:\n",
    "        if x[1] < alpha:\n",
    "            sig_pvals[x[0]] = x[1]\n",
    "            \n",
    "    return sig_pvals\n"
   ]
  },
  {
   "cell_type": "code",
   "execution_count": 31,
   "id": "bb0a9fa2",
   "metadata": {},
   "outputs": [
    {
     "name": "stdout",
     "output_type": "stream",
     "text": [
      "{}\n"
     ]
    }
   ],
   "source": [
    "test = get_signif_pvals(positive, 0.05)\n",
    "\n",
    "print(test)"
   ]
  }
 ],
 "metadata": {
  "kernelspec": {
   "display_name": "Python 3 (ipykernel)",
   "language": "python",
   "name": "python3"
  },
  "language_info": {
   "codemirror_mode": {
    "name": "ipython",
    "version": 3
   },
   "file_extension": ".py",
   "mimetype": "text/x-python",
   "name": "python",
   "nbconvert_exporter": "python",
   "pygments_lexer": "ipython3",
   "version": "3.7.12"
  }
 },
 "nbformat": 4,
 "nbformat_minor": 5
}
