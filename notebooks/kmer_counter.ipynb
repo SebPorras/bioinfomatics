{
 "cells": [
  {
   "cell_type": "code",
   "execution_count": 2,
   "id": "84404746",
   "metadata": {},
   "outputs": [
    {
     "ename": "ModuleNotFoundError",
     "evalue": "No module named 'webservice'",
     "output_type": "error",
     "traceback": [
      "\u001b[0;31m---------------------------------------------------------------------------\u001b[0m",
      "\u001b[0;31mModuleNotFoundError\u001b[0m                       Traceback (most recent call last)",
      "\u001b[0;32m/tmp/ipykernel_27960/2818558413.py\u001b[0m in \u001b[0;36m<module>\u001b[0;34m\u001b[0m\n\u001b[1;32m      1\u001b[0m \u001b[0;32mfrom\u001b[0m \u001b[0mcollections\u001b[0m \u001b[0;32mimport\u001b[0m \u001b[0mdefaultdict\u001b[0m\u001b[0;34m\u001b[0m\u001b[0;34m\u001b[0m\u001b[0m\n\u001b[0;32m----> 2\u001b[0;31m \u001b[0;32mfrom\u001b[0m \u001b[0msequence\u001b[0m \u001b[0;32mimport\u001b[0m \u001b[0;34m*\u001b[0m\u001b[0;34m\u001b[0m\u001b[0;34m\u001b[0m\u001b[0m\n\u001b[0m\u001b[1;32m      3\u001b[0m \u001b[0;32mfrom\u001b[0m \u001b[0mscipy\u001b[0m\u001b[0;34m.\u001b[0m\u001b[0mstats\u001b[0m \u001b[0;32mimport\u001b[0m \u001b[0mfisher_exact\u001b[0m\u001b[0;34m\u001b[0m\u001b[0;34m\u001b[0m\u001b[0m\n",
      "\u001b[0;32m~/expat_bench/notebooks/sequence.py\u001b[0m in \u001b[0;36m<module>\u001b[0;34m\u001b[0m\n\u001b[1;32m     27\u001b[0m \u001b[0;32mimport\u001b[0m \u001b[0mstring\u001b[0m\u001b[0;34m,\u001b[0m \u001b[0msys\u001b[0m\u001b[0;34m,\u001b[0m \u001b[0mre\u001b[0m\u001b[0;34m,\u001b[0m \u001b[0mmath\u001b[0m\u001b[0;34m,\u001b[0m \u001b[0mos\u001b[0m\u001b[0;34m,\u001b[0m \u001b[0marray\u001b[0m\u001b[0;34m\u001b[0m\u001b[0;34m\u001b[0m\u001b[0m\n\u001b[1;32m     28\u001b[0m \u001b[0;32mimport\u001b[0m \u001b[0mnumpy\u001b[0m\u001b[0;34m\u001b[0m\u001b[0;34m\u001b[0m\u001b[0m\n\u001b[0;32m---> 29\u001b[0;31m \u001b[0;32mfrom\u001b[0m \u001b[0mwebservice\u001b[0m \u001b[0;32mimport\u001b[0m \u001b[0;34m*\u001b[0m\u001b[0;34m\u001b[0m\u001b[0;34m\u001b[0m\u001b[0m\n\u001b[0m\u001b[1;32m     30\u001b[0m \u001b[0;32mfrom\u001b[0m \u001b[0msym\u001b[0m \u001b[0;32mimport\u001b[0m \u001b[0;34m*\u001b[0m\u001b[0;34m\u001b[0m\u001b[0;34m\u001b[0m\u001b[0m\n\u001b[1;32m     31\u001b[0m \u001b[0;32mfrom\u001b[0m \u001b[0mprob\u001b[0m \u001b[0;32mimport\u001b[0m \u001b[0;34m*\u001b[0m\u001b[0;34m\u001b[0m\u001b[0;34m\u001b[0m\u001b[0m\n",
      "\u001b[0;31mModuleNotFoundError\u001b[0m: No module named 'webservice'"
     ]
    }
   ],
   "source": [
    "from collections import defaultdict\n",
    "from sequence import *\n",
    "from scipy.stats import fisher_exact"
   ]
  },
  {
   "cell_type": "code",
   "execution_count": null,
   "id": "a32560aa",
   "metadata": {},
   "outputs": [],
   "source": [
    "def kmer_counter(filtered_seqs, k):\n",
    "    '''\n",
    "    Return a list of the number of times each possible k-mer appears\n",
    "    in seq, including overlapping occurrences.\n",
    "    '''\n",
    "    counts = {}\n",
    "    for seq in filtered_seqs:\n",
    "        for i in range(0, len(seq)-k+1):\n",
    "            \n",
    "            kmer = seq[i:i+k]\n",
    "            current_count = counts.get(kmer, 0)\n",
    "            counts[kmer] = current_count + 1\n",
    "\n",
    "    return counts\n",
    "\n",
    "\n",
    "def positve_kmer_counts(ec_num, k):\n",
    "    \n",
    "    filtered_seqs = readFastaFile(f\"/home/seb-porras/expat_bench/workflows/{ec_num}/files/{ec_num}_filt.fasta\")\n",
    "    \n",
    "    num_seqs = len(filtered_seqs)\n",
    "\n",
    "    counts = kmer_counter(filtered_seqs, k)\n",
    "\n",
    "    return counts, num_seqs\n",
    "\n",
    "def negative_kmer_counts(ec_num, k):\n",
    "    \n",
    "    unfiltered_seqs = readFastaFile(f\"/home/seb-porras/expat_bench/workflows/{ec_num}/files/{ec_num}.fasta\")\n",
    "    \n",
    "    num_seqs = len(unfiltered_seqs)\n",
    "\n",
    "    counts = kmer_counter(unfiltered_seqs, k)\n",
    "\n",
    "    return counts, num_seqs"
   ]
  },
  {
   "cell_type": "code",
   "execution_count": null,
   "id": "3cfaa03e",
   "metadata": {},
   "outputs": [],
   "source": [
    "positive, pos_length = positve_kmer_counts('3_5_2_6', 5)\n",
    "negative, neg_length = negative_kmer_counts('3_5_2_6', 5)"
   ]
  }
 ],
 "metadata": {
  "kernelspec": {
   "display_name": "Python 3 (ipykernel)",
   "language": "python",
   "name": "python3"
  },
  "language_info": {
   "codemirror_mode": {
    "name": "ipython",
    "version": 3
   },
   "file_extension": ".py",
   "mimetype": "text/x-python",
   "name": "python",
   "nbconvert_exporter": "python",
   "pygments_lexer": "ipython3",
   "version": "3.7.12"
  }
 },
 "nbformat": 4,
 "nbformat_minor": 5
}
