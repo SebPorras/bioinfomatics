{
 "cells": [
  {
   "cell_type": "code",
   "execution_count": null,
   "id": "08abe033",
   "metadata": {},
   "outputs": [],
   "source": [
    "from collections import defaultdict\n",
    "from sequence import *\n",
    "from scipy.stats import fisher_exact"
   ]
  },
  {
   "cell_type": "code",
   "execution_count": null,
   "id": "0e0ce862",
   "metadata": {},
   "outputs": [],
   "source": [
    "def kmer_counter(filtered_seqs, k):\n",
    "    '''\n",
    "    Return a list of the number of times each possible k-mer appears\n",
    "    in seq, including overlapping occurrences.\n",
    "    '''\n",
    "    counts = {}\n",
    "    for seq in filtered_seqs:\n",
    "        for i in range(0, len(seq)-k+1):\n",
    "            \n",
    "            kmer = seq[i:i+k]\n",
    "            current_count = counts.get(kmer, 0)\n",
    "            counts[kmer] = current_count + 1\n",
    "\n",
    "    return counts\n",
    "\n",
    "\n",
    "def positve_kmer_counts(ec_num, k):\n",
    "    \n",
    "    filtered_seqs = readFastaFile(f\"/home/seb-porras/expat_bench/workflows/{ec_num}/files/{ec_num}_filt.fasta\")\n",
    "    \n",
    "    num_seqs = len(filtered_seqs)\n",
    "\n",
    "    counts = kmer_counter(filtered_seqs, k)\n",
    "\n",
    "    return counts, num_seqs\n",
    "\n",
    "def negative_kmer_counts(ec_num, k):\n",
    "    \n",
    "    unfiltered_seqs = readFastaFile(f\"/home/seb-porras/expat_bench/workflows/{ec_num}/files/{ec_num}.fasta\")\n",
    "    \n",
    "    num_seqs = len(unfiltered_seqs)\n",
    "\n",
    "    counts = kmer_counter(unfiltered_seqs, k)\n",
    "\n",
    "    return counts, num_seqs"
   ]
  },
  {
   "cell_type": "code",
   "execution_count": null,
   "id": "200e2e20",
   "metadata": {},
   "outputs": [],
   "source": []
  }
 ],
 "metadata": {
  "kernelspec": {
   "display_name": "Python 3 (ipykernel)",
   "language": "python",
   "name": "python3"
  },
  "language_info": {
   "codemirror_mode": {
    "name": "ipython",
    "version": 3
   },
   "file_extension": ".py",
   "mimetype": "text/x-python",
   "name": "python",
   "nbconvert_exporter": "python",
   "pygments_lexer": "ipython3",
   "version": "3.7.12"
  }
 },
 "nbformat": 4,
 "nbformat_minor": 5
}
