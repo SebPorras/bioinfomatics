{
 "cells": [
  {
   "cell_type": "code",
   "execution_count": 20,
   "id": "75e0e600",
   "metadata": {},
   "outputs": [],
   "source": [
    "from filtering_scripts_v2 import * "
   ]
  },
  {
   "cell_type": "code",
   "execution_count": 21,
   "id": "4aa203f4",
   "metadata": {},
   "outputs": [
    {
     "name": "stdout",
     "output_type": "stream",
     "text": [
      "BRENDA_Km\n",
      "3_5_2_6 does not have BRENDA_Km column\n",
      "\n",
      "\n"
     ]
    },
    {
     "ename": "TypeError",
     "evalue": "calc_jaccard_matrix() takes 3 positional arguments but 4 were given",
     "output_type": "error",
     "traceback": [
      "\u001b[0;31m---------------------------------------------------------------------------\u001b[0m",
      "\u001b[0;31mTypeError\u001b[0m                                 Traceback (most recent call last)",
      "\u001b[0;32m/tmp/ipykernel_6512/2117127055.py\u001b[0m in \u001b[0;36m<module>\u001b[0;34m\u001b[0m\n\u001b[0;32m----> 1\u001b[0;31m \u001b[0mgenerate_filtered_entries\u001b[0m\u001b[0;34m(\u001b[0m\u001b[0;34m\"3_5_2_6\"\u001b[0m\u001b[0;34m,\u001b[0m \u001b[0;36m0.15\u001b[0m\u001b[0;34m,\u001b[0m \u001b[0;36m0\u001b[0m\u001b[0;34m,\u001b[0m \u001b[0;34m\"BRENDA_Km\"\u001b[0m\u001b[0;34m,\u001b[0m \u001b[0;36m0\u001b[0m\u001b[0;34m)\u001b[0m\u001b[0;34m\u001b[0m\u001b[0;34m\u001b[0m\u001b[0m\n\u001b[0m",
      "\u001b[0;32m~/expat_bench/notebooks/filtering_scripts_v2.py\u001b[0m in \u001b[0;36mgenerate_filtered_entries\u001b[0;34m(ec_num, threshold, index, enzyme_prop, entry_limit)\u001b[0m\n\u001b[1;32m    307\u001b[0m     \u001b[0;31m#ip_matrix = calc_jaccard_matrix(ec_num, threshold, filtered_ip)\u001b[0m\u001b[0;34m\u001b[0m\u001b[0;34m\u001b[0m\u001b[0;34m\u001b[0m\u001b[0m\n\u001b[1;32m    308\u001b[0m \u001b[0;34m\u001b[0m\u001b[0m\n\u001b[0;32m--> 309\u001b[0;31m     \u001b[0;31m#display filtered protein families\u001b[0m\u001b[0;34m\u001b[0m\u001b[0;34m\u001b[0m\u001b[0;34m\u001b[0m\u001b[0m\n\u001b[0m\u001b[1;32m    310\u001b[0m     \u001b[0;31m#display_annotations(ec_num, ip_matrix, index, 'Protein_families')\u001b[0m\u001b[0;34m\u001b[0m\u001b[0;34m\u001b[0m\u001b[0;34m\u001b[0m\u001b[0m\n\u001b[1;32m    311\u001b[0m \u001b[0;34m\u001b[0m\u001b[0m\n",
      "\u001b[0;31mTypeError\u001b[0m: calc_jaccard_matrix() takes 3 positional arguments but 4 were given"
     ]
    }
   ],
   "source": [
    "generate_filtered_entries(\"3_5_2_6\", 0.15, 0, \"BRENDA_Km\", 0)"
   ]
  }
 ],
 "metadata": {
  "kernelspec": {
   "display_name": "Python 3 (ipykernel)",
   "language": "python",
   "name": "python3"
  },
  "language_info": {
   "codemirror_mode": {
    "name": "ipython",
    "version": 3
   },
   "file_extension": ".py",
   "mimetype": "text/x-python",
   "name": "python",
   "nbconvert_exporter": "python",
   "pygments_lexer": "ipython3",
   "version": "3.7.12"
  }
 },
 "nbformat": 4,
 "nbformat_minor": 5
}
