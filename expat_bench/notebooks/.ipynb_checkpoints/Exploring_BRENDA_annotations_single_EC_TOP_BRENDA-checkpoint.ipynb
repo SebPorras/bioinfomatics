{
 "cells": [
  {
   "cell_type": "markdown",
   "metadata": {},
   "source": [
    "# This notebook shows how to interact with a BrendaParser and BrendaProtein object\n",
    "\n",
    "https://github.com/matthiaskoenig/brendapy"
   ]
  },
  {
   "cell_type": "code",
   "execution_count": 1,
   "metadata": {},
   "outputs": [
    {
     "ename": "ModuleNotFoundError",
     "evalue": "No module named 'brendapy'",
     "output_type": "error",
     "traceback": [
      "\u001b[0;31m---------------------------------------------------------------------------\u001b[0m",
      "\u001b[0;31mModuleNotFoundError\u001b[0m                       Traceback (most recent call last)",
      "\u001b[0;32m<ipython-input-1-9031f973a663>\u001b[0m in \u001b[0;36m<module>\u001b[0;34m\u001b[0m\n\u001b[1;32m      3\u001b[0m \u001b[0;32mfrom\u001b[0m \u001b[0mcollections\u001b[0m \u001b[0;32mimport\u001b[0m \u001b[0mOrderedDict\u001b[0m\u001b[0;34m,\u001b[0m \u001b[0mdefaultdict\u001b[0m\u001b[0;34m\u001b[0m\u001b[0;34m\u001b[0m\u001b[0m\n\u001b[1;32m      4\u001b[0m \u001b[0;34m\u001b[0m\u001b[0m\n\u001b[0;32m----> 5\u001b[0;31m \u001b[0;32mfrom\u001b[0m \u001b[0mbrendapy\u001b[0m \u001b[0;32mimport\u001b[0m \u001b[0mBrendaParser\u001b[0m\u001b[0;34m,\u001b[0m \u001b[0mBrendaProtein\u001b[0m\u001b[0;34m\u001b[0m\u001b[0;34m\u001b[0m\u001b[0m\n\u001b[0m\u001b[1;32m      6\u001b[0m \u001b[0;32mfrom\u001b[0m \u001b[0mbrendapy\u001b[0m\u001b[0;34m.\u001b[0m\u001b[0mtaxonomy\u001b[0m \u001b[0;32mimport\u001b[0m \u001b[0mTaxonomy\u001b[0m\u001b[0;34m\u001b[0m\u001b[0;34m\u001b[0m\u001b[0m\n\u001b[1;32m      7\u001b[0m \u001b[0;34m\u001b[0m\u001b[0m\n",
      "\u001b[0;31mModuleNotFoundError\u001b[0m: No module named 'brendapy'"
     ]
    }
   ],
   "source": [
    "import pandas as pd\n",
    "import logging\n",
    "from collections import OrderedDict, defaultdict\n",
    "\n",
    "from brendapy import BrendaParser, BrendaProtein\n",
    "from brendapy.taxonomy import Taxonomy\n",
    "\n",
    "BRENDA_PARSER = BrendaParser()  # reuse parser\n",
    "\n",
    "\n",
    "def parse_proteins_for_ec(ec=\"1.1.1.1\"):\n",
    "    \"\"\"Parse the protein entries for a given EC number in BRENDA.\n",
    "    \"\"\"\n",
    "    proteins = BRENDA_PARSER.get_proteins(ec)\n",
    "    return proteins\n",
    "\n",
    "\n",
    "ec_numbers = ['1.14.99.39', '2.7.10.1', '2.7.10.2', '2.7.11.1', '2.7.13.3' ]\n",
    "\n",
    "\n",
    "ec_dict = parse_proteins_for_ec(ec_numbers[3])"
   ]
  },
  {
   "cell_type": "markdown",
   "metadata": {},
   "source": [
    "### We can also check other details"
   ]
  },
  {
   "cell_type": "code",
   "execution_count": null,
   "metadata": {
    "scrolled": true
   },
   "outputs": [],
   "source": [
    "# Check if it has a UniProt ID\n",
    "for prot_id in range(1, len(ec_dict) + 1):\n",
    "    if ec_dict[prot_id].uniprot:\n",
    "\n",
    "        print (f\">{ec_dict[prot_id].uniprot}\")"
   ]
  },
  {
   "cell_type": "code",
   "execution_count": 2,
   "metadata": {},
   "outputs": [
    {
     "ename": "NameError",
     "evalue": "name 'ec_dict' is not defined",
     "output_type": "error",
     "traceback": [
      "\u001b[0;31m---------------------------------------------------------------------------\u001b[0m",
      "\u001b[0;31mNameError\u001b[0m                                 Traceback (most recent call last)",
      "\u001b[0;32m<ipython-input-2-1ebbecd1b008>\u001b[0m in \u001b[0;36m<module>\u001b[0;34m\u001b[0m\n\u001b[0;32m----> 1\u001b[0;31m \u001b[0mec_dict\u001b[0m\u001b[0;34m[\u001b[0m\u001b[0;36m3\u001b[0m\u001b[0;34m]\u001b[0m\u001b[0;34m.\u001b[0m\u001b[0mreferences\u001b[0m\u001b[0;34m\u001b[0m\u001b[0;34m\u001b[0m\u001b[0m\n\u001b[0m\u001b[1;32m      2\u001b[0m \u001b[0mtest_dict\u001b[0m \u001b[0;34m=\u001b[0m \u001b[0mdefaultdict\u001b[0m\u001b[0;34m(\u001b[0m\u001b[0mlist\u001b[0m\u001b[0;34m)\u001b[0m\u001b[0;34m\u001b[0m\u001b[0;34m\u001b[0m\u001b[0m\n\u001b[1;32m      3\u001b[0m \u001b[0mtest_dict\u001b[0m\u001b[0;34m[\u001b[0m\u001b[0mec_dict\u001b[0m\u001b[0;34m[\u001b[0m\u001b[0;36m3\u001b[0m\u001b[0;34m]\u001b[0m\u001b[0;34m.\u001b[0m\u001b[0muniprot\u001b[0m\u001b[0;34m]\u001b[0m \u001b[0;34m=\u001b[0m \u001b[0mec_dict\u001b[0m\u001b[0;34m[\u001b[0m\u001b[0;36m3\u001b[0m\u001b[0;34m]\u001b[0m\u001b[0;34m.\u001b[0m\u001b[0mreferences\u001b[0m\u001b[0;34m\u001b[0m\u001b[0;34m\u001b[0m\u001b[0m\n\u001b[1;32m      4\u001b[0m \u001b[0mprint\u001b[0m \u001b[0;34m(\u001b[0m\u001b[0mtest_dict\u001b[0m\u001b[0;34m)\u001b[0m\u001b[0;34m\u001b[0m\u001b[0;34m\u001b[0m\u001b[0m\n",
      "\u001b[0;31mNameError\u001b[0m: name 'ec_dict' is not defined"
     ]
    }
   ],
   "source": [
    "ec_dict[3].references\n",
    "test_dict = defaultdict(list)\n",
    "test_dict[ec_dict[3].uniprot] = ec_dict[3].references\n",
    "print (test_dict)"
   ]
  },
  {
   "cell_type": "markdown",
   "metadata": {},
   "source": [
    "### The ASR curation workflow pulls the values for a given BRENDA column (currently just TN and KM) and puts them in a column"
   ]
  },
  {
   "cell_type": "code",
   "execution_count": 12,
   "metadata": {
    "scrolled": false
   },
   "outputs": [
    {
     "name": "stdout",
     "output_type": "stream",
     "text": [
      "Q8NQZ9\n",
      "Q97UB2\n",
      "{'data': '0.54 {2,3-dihydroxyisovalerate}', 'refs': [28], 'units': 'mM', 'value': 0.54, 'substrate': '2,3-dihydroxyisovalerate', 'chebi': 'CHEBI_11424'}\n",
      "{'data': '2.1 {2,3-Dihydroxy-3-methylbutanoate}', 'refs': [39], 'comment': '#22# pH 7, 50°C <39>', 'units': 'mM', 'value': 2.1, 'substrate': '2,3-Dihydroxy-3-methylbutanoate'}\n",
      "{'data': '2.42 {D-gluconate}', 'refs': [28], 'units': 'mM', 'value': 2.42, 'substrate': 'D-gluconate', 'chebi': 'CHEBI_18391'}\n",
      "{'data': '7.8 {D-gluconate}', 'refs': [39], 'comment': '#22# pH 7, 50°C <39>', 'units': 'mM', 'value': 7.8, 'substrate': 'D-gluconate', 'chebi': 'CHEBI_18391'}\n",
      "Q0K7F8\n",
      "{'data': '2.7 {2,3-dihydroxyisovalerate}', 'refs': [40], 'comment': '#23# pH 7.0, 30°C <40>', 'units': 'mM', 'value': 2.7, 'substrate': '2,3-dihydroxyisovalerate', 'chebi': 'CHEBI_11424'}\n",
      "Q9LIR4\n"
     ]
    }
   ],
   "source": [
    "\n",
    "brenda_dict = defaultdict(lambda: defaultdict(list))\n",
    "\n",
    "for prot_id, protein in sorted(ec_dict.items()):\n",
    "    if protein.uniprot:\n",
    "            print (protein.uniprot)\n",
    "            for bc in brenda_cols:\n",
    "                attribs = getattr(protein, bc)\n",
    "                if attribs:\n",
    "                    for attrib in attribs:\n",
    "                        print (attrib)\n",
    "                        \n",
    "#                         if 'mutant' not in attrib['comment']:\n",
    "#                             brenda_dict[protein.uniprot][f\"{str(bc)}_{str(attrib['substrate'])}\"].append(attrib['value'])\n",
    "#                             brenda_dict[protein.uniprot][f\"{str(bc)}\"].append(f\"{attrib['value']};{attrib['substrate']}\")\n",
    "\n",
    "for k, v in brenda_dict.items():\n",
    "    print (f\"{k}\\n{v}\\n\")\n",
    "    print (f\"Available keys are {', '.join([x for x in v.keys()])}\\n\")\n",
    "                      "
   ]
  },
  {
   "cell_type": "code",
   "execution_count": 39,
   "metadata": {
    "scrolled": false
   },
   "outputs": [
    {
     "name": "stdout",
     "output_type": "stream",
     "text": [
      "bc is TN\n",
      "bc is TO\n",
      "bc is TN\n",
      "{'data': '0.011 {D-glycerate}', 'refs': [39], 'comment': '#22# pH 7, 50°C, non-activated enzyme <39>', 'units': '1/s', 'value': 0.011, 'substrate': 'D-glycerate', 'chebi': 'CHEBI_16659'}\n",
      "{'data': '0.03 {D-glycerate}', 'refs': [39], 'comment': '#22# pH 7, 50°C, enzyme activated by 2-mercaptoethanol <39>', 'units': '1/s', 'value': 0.03, 'substrate': 'D-glycerate', 'chebi': 'CHEBI_16659'}\n",
      "{'data': '0.31 {2,3-Dihydroxy-3-methylbutanoate}', 'refs': [39], 'comment': '#22# pH 7, 50°C, enzyme activated by 2-mercaptoethanol <39>; #22# pH 7, 50°C, non-activated enzyme <39>', 'units': '1/s', 'value': 0.31, 'substrate': '2,3-Dihydroxy-3-methylbutanoate'}\n",
      "{'data': '0.4 {D-gluconate}', 'refs': [39], 'comment': '#22# pH 7, 50°C, non-activated enzyme <39>', 'units': '1/s', 'value': 0.4, 'substrate': 'D-gluconate', 'chebi': 'CHEBI_18391'}\n",
      "{'data': '1.19 {D-gluconate}', 'refs': [39], 'comment': '#22# pH 7, 50°C, enzyme activated by 2-mercaptoethanol <39>', 'units': '1/s', 'value': 1.19, 'substrate': 'D-gluconate', 'chebi': 'CHEBI_18391'}\n",
      "{'data': '48.5 {D-gluconate}', 'refs': [28], 'units': '1/s', 'value': 48.5, 'substrate': 'D-gluconate', 'chebi': 'CHEBI_18391'}\n",
      "{'data': '75.8 {2,3-dihydroxyisovalerate}', 'refs': [28], 'units': '1/s', 'value': 75.8, 'substrate': '2,3-dihydroxyisovalerate', 'chebi': 'CHEBI_11424'}\n",
      "bc is TO\n",
      "{'data': '77', 'refs': [39], 'comment': '#22# dehydration of D-gluconate <39>'}\n",
      "{'data': '80', 'refs': [28]}\n",
      "bc is TN\n",
      "bc is TO\n",
      "bc is TN\n",
      "bc is TO\n",
      "Getting BRENDA DF\n",
      "Q97UB2\n",
      "BRENDA_TN_D-glycerate_DATA ['0.011_count=1', '0.03_count=2']\n",
      "\n",
      "BRENDA_TN ['0.011;D-glycerate_count=1', '0.03;D-glycerate_count=2', '0.31;2,3-Dihydroxy-3-methylbutanoate_count=3', '0.4;D-gluconate_count=4', '1.19;D-gluconate_count=5', '48.5;D-gluconate_count=6', '75.8;2,3-dihydroxyisovalerate_count=7']\n",
      "\n",
      "BRENDA_TN_D-glycerate_UNITS ['1/s_count=1', '1/s_count=2']\n",
      "\n",
      "BRENDA_TN_D-glycerate_REFS ['[39]_count=1', '[39]_count=2']\n",
      "\n",
      "BRENDA_TN_D-glycerate_COMMENT ['#22# pH 7, 50°C, non-activated enzyme <39>_count=1', '#22# pH 7, 50°C, enzyme activated by 2-mercaptoethanol <39>_count=2']\n",
      "\n",
      "BRENDA_TN_2,3-Dihydroxy-3-methylbutanoate_DATA ['0.31_count=3']\n",
      "\n",
      "BRENDA_TN_2,3-Dihydroxy-3-methylbutanoate_UNITS ['1/s_count=3']\n",
      "\n",
      "BRENDA_TN_2,3-Dihydroxy-3-methylbutanoate_REFS ['[39]_count=3']\n",
      "\n",
      "BRENDA_TN_2,3-Dihydroxy-3-methylbutanoate_COMMENT ['#22# pH 7, 50°C, enzyme activated by 2-mercaptoethanol <39>; #22# pH 7, 50°C, non-activated enzyme <39>_count=3']\n",
      "\n",
      "BRENDA_TN_D-gluconate_DATA ['0.4_count=4', '1.19_count=5', '48.5_count=6']\n",
      "\n",
      "BRENDA_TN_D-gluconate_UNITS ['1/s_count=4', '1/s_count=5', '1/s_count=6']\n",
      "\n",
      "BRENDA_TN_D-gluconate_REFS ['[39]_count=4', '[39]_count=5', '[28]_count=6']\n",
      "\n",
      "BRENDA_TN_D-gluconate_COMMENT ['#22# pH 7, 50°C, non-activated enzyme <39>_count=4', '#22# pH 7, 50°C, enzyme activated by 2-mercaptoethanol <39>_count=5']\n",
      "\n",
      "BRENDA_TN_2,3-dihydroxyisovalerate_DATA ['75.8_count=7']\n",
      "\n",
      "BRENDA_TN_2,3-dihydroxyisovalerate_UNITS ['1/s_count=7']\n",
      "\n",
      "BRENDA_TN_2,3-dihydroxyisovalerate_REFS ['[28]_count=7']\n",
      "\n",
      "BRENDA_TO_DATA ['77_count=1', '80_count=2']\n",
      "\n",
      "BRENDA_TO_REFS ['[39]_count=1', '[28]_count=2']\n",
      "\n",
      "BRENDA_TO_COMMENT ['#22# dehydration of D-gluconate <39>_count=1']\n",
      "\n"
     ]
    }
   ],
   "source": [
    "brenda_cols = ['TN', 'TO']\n",
    "\n",
    "def add_val(brenda_dict, protein, attrib, attrib_count):\n",
    "    \n",
    "    print (attrib)\n",
    "    \n",
    "\n",
    "    if 'comment' not in attrib or 'mutant' not in attrib['comment']:\n",
    "\n",
    "        if 'substrate' in attrib:\n",
    "            \n",
    "            terms = ['units', 'refs', 'comment']\n",
    "            \n",
    "            brenda_dict[protein.uniprot][f\"BRENDA_{str(bc)}_{str(attrib['substrate'])}_DATA\"].append(f\"{attrib['value']}_count={attrib_count}\")\n",
    "            brenda_dict[protein.uniprot][f\"BRENDA_{str(bc)}\"].append(f\"{attrib['value']};{attrib['substrate']}_count={attrib_count}\")\n",
    "                                                                     \n",
    "            for term in terms:\n",
    "                if term in attrib:\n",
    "                    brenda_dict[protein.uniprot][f\"BRENDA_{str(bc)}_{str(attrib['substrate'])}_{term.upper()}\"].append(f\"{attrib[term]}_count={attrib_count}\")\n",
    "\n",
    "\n",
    "        else:\n",
    "            terms = ['data', 'units', 'refs', 'comment']\n",
    "                                                    \n",
    "            for term in terms:\n",
    "                if term in attrib:\n",
    "                    brenda_dict[protein.uniprot][f\"BRENDA_{str(bc)}_{term.upper()}\"].append(f\"{attrib[term]}_count={attrib_count}\")\n",
    "\n",
    "\n",
    "# Create a BRENDA dictionary that maps all of the available Uniprot IDs from BRENDA to their annotations\n",
    "brenda_dict = defaultdict(lambda: defaultdict(list))\n",
    "\n",
    "# Not getting SN (synonyms) or RN (accepted name (IUPAC)) or IC50\n",
    "for prot_id, protein in sorted(ec_dict.items()):\n",
    "    if protein.uniprot:\n",
    "        # ADD REFERENCES HERE\n",
    "        for bc in brenda_cols:\n",
    "            attrib_count = 0\n",
    "            print (f'bc is {bc}')\n",
    "            attribs = getattr(protein, bc)\n",
    "            if attribs:\n",
    "                for attrib in attribs:\n",
    "                    attrib_count +=1\n",
    "                    if bc in [ 'AP', 'AC', 'CF', 'CL', 'CR', 'EXP', 'IC50', 'LO', 'NSP', 'PHO', 'PU', 'PM', 'SP', 'EN',\n",
    "                              'IN', 'ME', 'MW', 'SA', 'ST', 'SU', 'SY', 'TO', 'TR', 'TS', 'KKM', 'KM', 'TN', 'KI']:\n",
    "                        add_val(brenda_dict, protein, attrib, attrib_count)\n",
    "                    if bc == 'GI':\n",
    "                        print(f\"WARNING {bc} is not implemented\")\n",
    "                        print(attrib)\n",
    "                    if bc == 'GS':\n",
    "                        print(f\"WARNING {bc} is not implemented\")\n",
    "                        print(attrib)\n",
    "                    if bc == 'OS':\n",
    "                        print(f\"WARNING {bc} is not implemented\")\n",
    "                        print(attrib)\n",
    "                    if bc == 'OSS':\n",
    "                        print(f\"WARNING {bc} is not implemented\")\n",
    "                        print(attrib)\n",
    "                    if bc == 'PHR':\n",
    "                        print(f\"WARNING {bc} is not implemented\")\n",
    "                        print(attrib)\n",
    "                    if bc == 'PHS':\n",
    "                        print(f\"WARNING {bc} is not implemented\")\n",
    "                        print(attrib)\n",
    "                    if bc == 'PI':\n",
    "                        print(f\"WARNING {bc} is not implemented\")\n",
    "                        print(attrib)\n",
    "                    if bc == 'REN':\n",
    "                        print(f\"WARNING {bc} is not implemented\")\n",
    "                        print(attrib)\n",
    "                    if bc == 'SS':\n",
    "                        print(f\"WARNING {bc} is not implemented\")\n",
    "                        print(attrib)\n",
    "\n",
    "\n",
    "# Add the annotations from BRENDA dictionary to the annotation file\n",
    "for entry_id, bd in brenda_dict.items():\n",
    "    print ('Getting BRENDA DF')\n",
    "    print (entry_id)\n",
    "    for k, v in bd.items():\n",
    "        print (k, v)\n",
    "        print()"
   ]
  },
  {
   "cell_type": "code",
   "execution_count": null,
   "metadata": {},
   "outputs": [],
   "source": []
  }
 ],
 "metadata": {
  "kernelspec": {
   "display_name": "Python 3",
   "language": "python",
   "name": "python3"
  },
  "language_info": {
   "codemirror_mode": {
    "name": "ipython",
    "version": 3
   },
   "file_extension": ".py",
   "mimetype": "text/x-python",
   "name": "python",
   "nbconvert_exporter": "python",
   "pygments_lexer": "ipython3",
   "version": "3.7.2"
  }
 },
 "nbformat": 4,
 "nbformat_minor": 2
}
