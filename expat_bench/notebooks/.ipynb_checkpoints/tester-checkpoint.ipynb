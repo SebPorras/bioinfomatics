{
 "cells": [
  {
   "cell_type": "code",
   "execution_count": 2,
   "id": "78866bda",
   "metadata": {},
   "outputs": [
    {
     "name": "stdout",
     "output_type": "stream",
     "text": [
      " \t     1      2      3      4      5      6      7      8      9     10     11     12     13     14     15     16\n",
      "A\t -0.82 -25.33 -25.33 -25.33  +0.49  -0.13  +0.44  +0.31  +0.47  +0.51  -0.74 -25.33  +1.30 -25.33  +0.39  +0.31\n",
      "C\t +0.49  +1.38 -25.33 -25.33  -0.39  -0.04  -0.45  -0.33  -0.17 -25.33  -0.01 -25.33  -1.14  +0.59  -0.13  -0.33\n",
      "G\t -1.83 -25.33  +1.39 -25.33  -0.13  +0.04  +0.11  -0.22  -0.04  +0.84  -1.03  +1.18 -25.33  -1.02  -0.33  -0.58\n",
      "T\t +0.57  -3.22 -25.33  +1.39  -0.22  +0.11  -0.39  +0.11  -0.51 -25.33  +0.78  -0.27 -25.33  +0.61  -0.08  +0.31\n"
     ]
    }
   ],
   "source": [
    "from sequence import * \n",
    "from prob import *\n",
    "from godata import GO\n",
    "from stats import *\n",
    "\n",
    "\n",
    "distribs = readMultiCount('C:\\\\Users\\\\61449\\\\OneDrive\\\\Documents\\\\Uni\\\\2022\\\\SCIE2100\\\\SCIE2100_Practical5\\\\abf1.jaspar')\n",
    "\n",
    "\n",
    "pwm = PWM(distribs)\n",
    "\n",
    "#print(pwm)\n",
    "# print(pwm.m)\n",
    "# #print(pwm.bg)\n",
    "\n",
    "\n",
    "#print(pwm.length)\n",
    "#16\n",
    "\n",
    "pwm.display()\n",
    "\n",
    "#0.11+\n",
    "\n"
   ]
  },
  {
   "cell_type": "code",
   "execution_count": 2,
   "id": "d14ac238",
   "metadata": {},
   "outputs": [
    {
     "name": "stdout",
     "output_type": "stream",
     "text": [
      "5850\n",
      "5839\n"
     ]
    }
   ],
   "source": [
    "promoters = readFastaFile('yeast_promoters.fa')\n",
    "\n",
    "print(len(promoters))\n",
    "#5850\n",
    "\n",
    "short_seqs = [seq for seq in promoters if seq.length >= 16]\n",
    "\n",
    "print(len(short_seqs))\n",
    "#5839\n",
    "\n",
    "# 5300-5400\n",
    "#https://pubmed.ncbi.nlm.nih.gov/11967832/\n",
    "\n",
    "scores = {}\n",
    "\n",
    "for seq in short_seqs:\n",
    "    scores[seq.name] = pwm.maxscore(seq.sequence)\n"
   ]
  },
  {
   "cell_type": "code",
   "execution_count": 3,
   "id": "c1e61266",
   "metadata": {},
   "outputs": [
    {
     "name": "stdout",
     "output_type": "stream",
     "text": [
      "('RPB4', (8.33724131711271, 356))\n"
     ]
    }
   ],
   "source": [
    "new_scores = {}\n",
    "\n",
    "sorted_scores = sorted(scores.items(), key=lambda x: x[1][0], reverse = True)\n",
    "\n",
    "thing = sorted_scores[:500]\n",
    "print(thing[-1])\n",
    "\n",
    "positive_gene_list = [key[0] for key in thing]\n"
   ]
  },
  {
   "cell_type": "code",
   "execution_count": 4,
   "id": "0d18eb6f",
   "metadata": {
    "scrolled": true
   },
   "outputs": [
    {
     "name": "stdout",
     "output_type": "stream",
     "text": [
      "('Started at', 'Tue May 24 16:15:37 2022')\n",
      "Read 167 GO definitions\n",
      "Read annotations for 6448 genes\n"
     ]
    }
   ],
   "source": [
    "\n",
    "go = GO(\"gene_association.sgd\", \"goslim_yeast.obo\", (2,2,3,4,6,8))\n",
    "negative_gene_list = list(go.getAllBackground(positive_gene_list)[0])[:1000]\n"
   ]
  },
  {
   "cell_type": "code",
   "execution_count": 9,
   "id": "eaff7461",
   "metadata": {},
   "outputs": [
    {
     "ename": "AttributeError",
     "evalue": "'str' object has no attribute 'getTerms4Genes'",
     "output_type": "error",
     "traceback": [
      "\u001b[1;31m---------------------------------------------------------------------------\u001b[0m",
      "\u001b[1;31mAttributeError\u001b[0m                            Traceback (most recent call last)",
      "\u001b[1;32mc:\\Users\\61449\\OneDrive\\Documents\\Uni\\2022\\SCIE2100\\SCIE2100_Practical5\\tester.ipynb Cell 5'\u001b[0m in \u001b[0;36m<cell line: 3>\u001b[1;34m()\u001b[0m\n\u001b[0;32m      <a href='vscode-notebook-cell:/c%3A/Users/61449/OneDrive/Documents/Uni/2022/SCIE2100/SCIE2100_Practical5/tester.ipynb#ch0000004?line=0'>1</a>\u001b[0m \u001b[39mfrom\u001b[39;00m \u001b[39mcollections\u001b[39;00m \u001b[39mimport\u001b[39;00m defaultdict\n\u001b[1;32m----> <a href='vscode-notebook-cell:/c%3A/Users/61449/OneDrive/Documents/Uni/2022/SCIE2100/SCIE2100_Practical5/tester.ipynb#ch0000004?line=2'>3</a>\u001b[0m go_terms_positive \u001b[39m=\u001b[39m go\u001b[39m.\u001b[39;49mgetTerms4Genes(positive_gene_list)\n\u001b[0;32m      <a href='vscode-notebook-cell:/c%3A/Users/61449/OneDrive/Documents/Uni/2022/SCIE2100/SCIE2100_Practical5/tester.ipynb#ch0000004?line=4'>5</a>\u001b[0m go_terms_negative \u001b[39m=\u001b[39m go\u001b[39m.\u001b[39mgetTerms4Genes(negative_gene_list)\n\u001b[0;32m      <a href='vscode-notebook-cell:/c%3A/Users/61449/OneDrive/Documents/Uni/2022/SCIE2100/SCIE2100_Practical5/tester.ipynb#ch0000004?line=6'>7</a>\u001b[0m positive_go \u001b[39m=\u001b[39m \u001b[39mset\u001b[39m()\n",
      "\u001b[1;31mAttributeError\u001b[0m: 'str' object has no attribute 'getTerms4Genes'"
     ]
    }
   ],
   "source": [
    "from collections import defaultdict\n",
    "\n",
    "go_terms_positive = go.getTerms4Genes(positive_gene_list)\n",
    "\n",
    "go_terms_negative = go.getTerms4Genes(negative_gene_list)\n",
    "\n",
    "positive_go = set()\n",
    "\n",
    "for value in go_terms_positive.values():\n",
    "    positive_go.update(value)\n",
    "    \n",
    "\n",
    "gene_counts = defaultdict(int)\n",
    "\n",
    "for go in positive_go:\n",
    "    for value in go_terms_negative.values():\n",
    "        if go in value:\n",
    "            gene_counts[go] += 1\n",
    "            \n"
   ]
  },
  {
   "cell_type": "code",
   "execution_count": 6,
   "id": "d31d97e2",
   "metadata": {
    "scrolled": false
   },
   "outputs": [],
   "source": [
    "positive_genes = defaultdict(int)\n",
    "\n",
    "for go in positive_go:\n",
    "    for value in go_terms_positive.values():\n",
    "        if go in value:\n",
    "            positive_genes[go] += 1\n",
    "            "
   ]
  },
  {
   "cell_type": "code",
   "execution_count": 11,
   "id": "6da39c36",
   "metadata": {},
   "outputs": [],
   "source": [
    "go_pvals = {}\n",
    "\n",
    "for key, value in positive_genes.items(): \n",
    "\n",
    "    a1 = value \n",
    "    a2 = 500 - a1 \n",
    "    \n",
    "\n",
    "    b1 = gene_counts[key]\n",
    "    b2 = 1000 - b1\n",
    "# except: \n",
    "    #     b1 = 0 \n",
    "    #     b2 = 1000\n",
    "\n",
    "    go_pvals[key] = getFETpval(a1, a2, b1, b2, left=False)\n",
    "    \n",
    "\n"
   ]
  },
  {
   "cell_type": "code",
   "execution_count": 12,
   "id": "e53ad3ac",
   "metadata": {},
   "outputs": [
    {
     "name": "stdout",
     "output_type": "stream",
     "text": [
      "[('GO:0003729', 0.7843974521917524), ('GO:0016569', 1.70363670888139), ('GO:0006351', 1.950710473795845), ('GO:0003779', 3.3070611000152863), ('GO:0005628', 3.725353525834899), ('GO:0005634', 5.042957450484233), ('GO:0001172', 6.743835316795345), ('GO:0003968', 6.743835316795345), ('GO:0034515', 6.743835316795345), ('GO:0005665', 6.743835316795345)]\n"
     ]
    }
   ],
   "source": [
    "go_evals = {}\n",
    "\n",
    "for key, value in go_pvals.items():\n",
    "    go_evals[key] = value*1000\n",
    "    \n",
    "go_filtered_eval = {}\n",
    "\n",
    "for key, value in go_evals.items():\n",
    "    if value < 50:\n",
    "        go_filtered_eval[key] = value\n",
    "\n",
    "\n",
    "sorted_go = sorted(go_filtered_eval.items(), key=lambda x: x[1])\n",
    "print(sorted_go[:10])"
   ]
  }
 ],
 "metadata": {
  "interpreter": {
   "hash": "31b1d12dc52a01bf0920102897051cf2c710927ac87c23286b77f19b78e59a26"
  },
  "kernelspec": {
   "display_name": "Python 3 (ipykernel)",
   "language": "python",
   "name": "python3"
  },
  "language_info": {
   "codemirror_mode": {
    "name": "ipython",
    "version": 3
   },
   "file_extension": ".py",
   "mimetype": "text/x-python",
   "name": "python",
   "nbconvert_exporter": "python",
   "pygments_lexer": "ipython3",
   "version": "3.7.12"
  }
 },
 "nbformat": 4,
 "nbformat_minor": 5
}
